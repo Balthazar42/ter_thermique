{
 "cells": [
  {
   "cell_type": "code",
   "execution_count": null,
   "id": "f6cb29b4-ffd5-486f-8732-3950de7655a7",
   "metadata": {},
   "outputs": [],
   "source": [
    "from graph import DiffusionGraph, gigraphe, line, plane, triangle\n",
    "from capacitance import heater, harmonic_response, bode_diagram\n",
    "import numpy as np\n",
    "import matplotlib.pyplot as plt\n",
    "\n",
    "%matplotlib notebook"
   ]
  }
 ],
 "metadata": {
  "kernelspec": {
   "display_name": "Python 3 (ipykernel)",
   "language": "python",
   "name": "python3"
  },
  "language_info": {
   "codemirror_mode": {
    "name": "ipython",
    "version": 3
   },
   "file_extension": ".py",
   "mimetype": "text/x-python",
   "name": "python",
   "nbconvert_exporter": "python",
   "pygments_lexer": "ipython3",
   "version": "3.12.4"
  }
 },
 "nbformat": 4,
 "nbformat_minor": 5
}
