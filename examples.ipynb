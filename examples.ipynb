{
 "cells": [
  {
   "metadata": {},
   "cell_type": "code",
   "outputs": [],
   "execution_count": null,
   "source": [
    "from graph import DiffusionGraph, gigraphe, line, plane\n",
    "from capacitance import heater, harmonic_response, bode_diagram\n",
    "import numpy as np\n",
    "import matplotlib.pyplot as plt\n",
    "\n",
    "%matplotlib notebook"
   ],
   "id": "3c338fdbdcd5a5b1"
  },
  {
   "metadata": {},
   "cell_type": "markdown",
   "source": "Température en fonction du temps",
   "id": "4b8cdedde768d1f1"
  },
  {
   "metadata": {},
   "cell_type": "code",
   "outputs": [],
   "execution_count": null,
   "source": [
    "%matplotlib inline\n",
    "\n",
    "g = DiffusionGraph(\n",
    "    n=3,\n",
    "    C=np.array([1, 1, 1]),\n",
    "    G=np.array([\n",
    "        [0, 1, 1],\n",
    "        [1, 0, 1],\n",
    "        [1, 1, 0],\n",
    "    ]),\n",
    ")\n",
    "\n",
    "t, U = g.simulate(\n",
    "    t_start=0,\n",
    "    t_end=5,\n",
    "    dt=0.1,\n",
    "    initial=np.array([0, 10, 5])\n",
    ")\n",
    "\n",
    "plt.plot(t, U.T)\n",
    "plt.xlabel(\"Temps\")\n",
    "plt.ylabel(\"Température\")\n",
    "plt.savefig(\"figures/triangle_temp\")\n",
    "plt.show()"
   ],
   "id": "78cee0e3d2152523"
  },
  {
   "metadata": {},
   "cell_type": "markdown",
   "source": "Diffusion pure, graphe quelconque",
   "id": "5596f40e492240b5"
  },
  {
   "metadata": {},
   "cell_type": "code",
   "outputs": [],
   "execution_count": null,
   "source": [
    "g = gigraphe\n",
    "anim = g.animate(\n",
    "    t_start=0,\n",
    "    t_end=20,\n",
    "    dt=0.1,\n",
    "    initial=np.random.uniform(0, 10, g.n),\n",
    ")\n",
    "# anim.save(\"figures/gigraphe_thermique.gif\")\n",
    "plt.show()"
   ],
   "id": "c0057904f6d0358f"
  },
  {
   "metadata": {},
   "cell_type": "markdown",
   "source": "Diffusion pure, graphe ligne",
   "id": "16430661e27a452e"
  },
  {
   "metadata": {},
   "cell_type": "code",
   "outputs": [],
   "execution_count": null,
   "source": [
    "n=5\n",
    "g = line(n, cap=1, cond=0.25)\n",
    "anim = g.animate(\n",
    "    t_start=0,\n",
    "    t_end=20,\n",
    "    dt=0.1,\n",
    "    initial=np.random.uniform(0, 10, g.n),\n",
    ")\n",
    "g.fig.set_size_inches(8, 4)\n",
    "# anim.save(\"figures/line.gif\")\n",
    "plt.show()"
   ],
   "id": "ee19b4f7fd913294"
  },
  {
   "metadata": {},
   "cell_type": "markdown",
   "source": "Diffusion avec forçage sur le premier sommet, graphe ligne",
   "id": "d9c269f1fa140c43"
  },
  {
   "metadata": {},
   "cell_type": "code",
   "outputs": [],
   "execution_count": null,
   "source": [
    "n=5\n",
    "g = line(n, period=10)\n",
    "anim = g.animate(\n",
    "    t_start=0,\n",
    "    t_end=30,\n",
    "    dt=0.1,\n",
    "    initial=np.linspace(-10, 10, n),\n",
    ")\n",
    "g.fig.set_size_inches(8, 4)\n",
    "# anim.save(\"figures/line.gif\")\n",
    "plt.show()"
   ],
   "id": "a438d02b1c89d8ea"
  },
  {
   "metadata": {},
   "cell_type": "markdown",
   "source": "Diffusion pure, graphe plan",
   "id": "afd3062bc20f8bcb"
  },
  {
   "metadata": {},
   "cell_type": "code",
   "outputs": [],
   "execution_count": null,
   "source": [
    "p, q = 5, 5\n",
    "g = plane(p, q, cap=1, cond=0.1)\n",
    "initial = np.random.uniform(-10, 10, (p, q))\n",
    "anim = g.animate(\n",
    "    t_start=0,\n",
    "    t_end=15,\n",
    "    dt=0.1,\n",
    "    initial=initial.flatten(),\n",
    ")\n",
    "g.fig.set_size_inches(8, 8)\n",
    "# anim.save(\"figures/plane.gif\")\n",
    "plt.show()"
   ],
   "id": "e0b3c326f22c5959"
  },
  {
   "metadata": {},
   "cell_type": "markdown",
   "source": "Diffusion avec forçage sur le sommet central, graphe plan",
   "id": "8c87dbb17fc10961"
  },
  {
   "metadata": {},
   "cell_type": "code",
   "outputs": [],
   "execution_count": null,
   "source": [
    "p, q = 5, 5\n",
    "g = plane(p, q)\n",
    "g.boundary_conditions[p//2*5+q//2] = lambda gr, i: 10 * np.sin(2*np.pi/10*gr.t)\n",
    "initial = np.random.uniform(-10, 10, (p, q))\n",
    "anim = g.animate(\n",
    "    t_start=0,\n",
    "    t_end=15,\n",
    "    dt=0.1,\n",
    "    initial=initial.flatten(),\n",
    ")\n",
    "g.fig.set_size_inches(8, 8)\n",
    "# anim.save(\"figures/plane.gif\")\n",
    "plt.show()"
   ],
   "id": "a3d45e183baf85fe"
  },
  {
   "metadata": {},
   "cell_type": "markdown",
   "source": "Température moyenne et écart quadratique moyen en diffusion pure",
   "id": "ee90c60257f3c884"
  },
  {
   "metadata": {},
   "cell_type": "code",
   "outputs": [],
   "execution_count": null,
   "source": [
    "g = gigraphe\n",
    "t, T = g.simulate(\n",
    "    t_start=0,\n",
    "    t_end=20,\n",
    "    dt=0.1,\n",
    "    initial=np.random.uniform(0, 10, g.n),\n",
    ")\n",
    "mean_T = g.mean_temp(T)\n",
    "msd_T = g.msd_temp(T)\n",
    "fig, (ax1, ax2) = plt.subplots(2)\n",
    "ax1.set_ylabel(\"Mean temperature\")\n",
    "ax1.plot(t, mean_T)\n",
    "ax2.set_ylabel(\"Temperature mean\\nstandard deviation\")\n",
    "ax2.set_xlabel(\"Time\")\n",
    "ax2.plot(t, msd_T)\n",
    "plt.show()"
   ],
   "id": "822bd61ca1b69080"
  },
  {
   "metadata": {},
   "cell_type": "markdown",
   "source": "Conductance négative",
   "id": "b09327bb393aef77"
  },
  {
   "metadata": {},
   "cell_type": "code",
   "outputs": [],
   "execution_count": null,
   "source": [
    "g = DiffusionGraph(\n",
    "    n=3,\n",
    "    C=np.array([1, 1, 1]),\n",
    "    G=0.1 * np.array([\n",
    "        [0, 1, 1],\n",
    "        [1, 0, -1],\n",
    "        [1, -1, 0],\n",
    "    ]),\n",
    "    pos=np.array([[-1, 0], [0, 1], [1, 0]]),\n",
    ")\n",
    "anim = g.animate(\n",
    "    t_start=0,\n",
    "    t_end=20,\n",
    "    dt=0.1,\n",
    "    initial=np.array([0, 1, 2]),\n",
    ")\n",
    "plt.show()"
   ],
   "id": "c288441d8a81dcb1"
  }
 ],
 "metadata": {
  "kernelspec": {
   "display_name": "Python 3",
   "language": "python",
   "name": "python3"
  },
  "language_info": {
   "codemirror_mode": {
    "name": "ipython",
    "version": 2
   },
   "file_extension": ".py",
   "mimetype": "text/x-python",
   "name": "python",
   "nbconvert_exporter": "python",
   "pygments_lexer": "ipython2",
   "version": "2.7.6"
  }
 },
 "nbformat": 4,
 "nbformat_minor": 5
}
